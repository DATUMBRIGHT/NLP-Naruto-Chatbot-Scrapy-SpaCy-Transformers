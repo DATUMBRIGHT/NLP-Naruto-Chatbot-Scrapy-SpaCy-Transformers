{
 "cells": [
  {
   "cell_type": "code",
   "execution_count": null,
   "metadata": {},
   "outputs": [],
   "source": [
    "from nltk import sent_tokenize\n",
    "import nltk\n",
    "import torch\n",
    "from transformers import pipeline\n",
    "from transformers import AutoTokenizer, AutoModelForSequenceClassification"
   ]
  },
  {
   "cell_type": "code",
   "execution_count": 3,
   "metadata": {},
   "outputs": [
    {
     "name": "stderr",
     "output_type": "stream",
     "text": [
      "[nltk_data] Downloading package punkt to\n",
      "[nltk_data]     /Users/brighttenkorangofori/nltk_data...\n",
      "[nltk_data]   Package punkt is already up-to-date!\n"
     ]
    },
    {
     "data": {
      "text/plain": [
       "True"
      ]
     },
     "execution_count": 3,
     "metadata": {},
     "output_type": "execute_result"
    }
   ],
   "source": [
    "nltk.download('punkt')"
   ]
  },
  {
   "cell_type": "code",
   "execution_count": 4,
   "metadata": {},
   "outputs": [],
   "source": [
    "device = 'cuda' if torch.cuda.is_available() else 'cpu'"
   ]
  },
  {
   "cell_type": "code",
   "execution_count": 5,
   "metadata": {},
   "outputs": [],
   "source": [
    "def load_model(device):\n",
    "\n",
    "    pipe = pipeline(\"zero-shot-classification\", model=\"facebook/bart-large-mnli\",device=device)\n",
    "\n",
    "    return pipe"
   ]
  },
  {
   "cell_type": "code",
   "execution_count": 6,
   "metadata": {},
   "outputs": [
    {
     "name": "stderr",
     "output_type": "stream",
     "text": [
      "/Users/brighttenkorangofori/Desktop/naruto/naurto-venv/lib/python3.9/site-packages/transformers/tokenization_utils_base.py:1601: FutureWarning: `clean_up_tokenization_spaces` was not set. It will be set to `True` by default. This behavior will be depracted in transformers v4.45, and will be then set to `False` by default. For more details check this issue: https://github.com/huggingface/transformers/issues/31884\n",
      "  warnings.warn(\n"
     ]
    }
   ],
   "source": [
    "theme_classifier = load_model(device)\n",
    "\n"
   ]
  },
  {
   "cell_type": "code",
   "execution_count": 7,
   "metadata": {},
   "outputs": [
    {
     "data": {
      "text/plain": [
       "{'sequence': 'one day I will see the world',\n",
       " 'labels': ['travel', 'dancing', 'cooking'],\n",
       " 'scores': [0.9938650727272034, 0.003273810725659132, 0.0028610399458557367]}"
      ]
     },
     "execution_count": 7,
     "metadata": {},
     "output_type": "execute_result"
    }
   ],
   "source": [
    "sequence_to_classify = \"one day I will see the world\"\n",
    "candidate_labels = ['travel', 'cooking', 'dancing']\n",
    "theme_classifier(sequence_to_classify, candidate_labels)"
   ]
  },
  {
   "cell_type": "code",
   "execution_count": 8,
   "metadata": {},
   "outputs": [],
   "source": [
    "from glob import glob"
   ]
  },
  {
   "cell_type": "code",
   "execution_count": 9,
   "metadata": {},
   "outputs": [
    {
     "data": {
      "text/plain": [
       "'/Users/brighttenkorangofori/Desktop/naruto/data/subtitles/Naruto Season 1 - 01.ass'"
      ]
     },
     "execution_count": 9,
     "metadata": {},
     "output_type": "execute_result"
    }
   ],
   "source": [
    "import os\n",
    "\n",
    "#os.path.dir()\n",
    "\n",
    "files = glob('/Users/brighttenkorangofori/Desktop/naruto/data/subtitles/*')\n",
    "files.sort()\n",
    "files[0]\n"
   ]
  },
  {
   "cell_type": "code",
   "execution_count": 34,
   "metadata": {},
   "outputs": [
    {
     "name": "stdout",
     "output_type": "stream",
     "text": [
      "220\n"
     ]
    }
   ],
   "source": [
    "#subs grouped into each episode \n",
    "import pandas as pd\n",
    "file_path = '/Users/brighttenkorangofori/Desktop/naruto/data/subtitles'\n",
    "files = glob(f'{file_path}/*')\n",
    "files.sort()\n",
    "subs = []\n",
    "for file in files:\n",
    "        with open(file,'r') as file:\n",
    "                lines = file.readlines()\n",
    "                lines = lines[27:]\n",
    "                \n",
    "                        \n",
    "                lines = [(line.split(',,')[-1]).strip() for line in lines]\n",
    "                lines = ' '.join(lines)\n",
    "                subs.append(lines)\n",
    "print(len(subs))\n"
   ]
  },
  {
   "cell_type": "code",
   "execution_count": 32,
   "metadata": {},
   "outputs": [
    {
     "data": {
      "text/plain": [
       "660"
      ]
     },
     "execution_count": 32,
     "metadata": {},
     "output_type": "execute_result"
    }
   ],
   "source": [
    "len(subs) "
   ]
  },
  {
   "cell_type": "code",
   "execution_count": 46,
   "metadata": {},
   "outputs": [],
   "source": [
    "\n",
    "def load_subtitles(file_path):\n",
    "        file_path = '/Users/brighttenkorangofori/Desktop/naruto/data/subtitles'\n",
    "        files = glob(f'{file_path}/*')\n",
    "        files.sort()\n",
    "        subs = []\n",
    "        for file in files:\n",
    "                with open(file,'r') as file:\n",
    "                        lines = file.readlines()\n",
    "                        lines = lines[27:]\n",
    "                        \n",
    "                                \n",
    "                        lines = [(line.split(',,')[-1]).strip() for line in lines]\n",
    "                        lines = ' '.join(lines)\n",
    "                        subs.append(lines)\n",
    "        \n",
    "        \n",
    "        #season = int(file.split('Season')[-1][:7].split('-')[0])\n",
    "        #episode = int(file.split('Season')[-1][:7].split('-')[1])\n",
    "        seasons = [int(file.split('Season')[-1][:7].split('-')[0]) for file in files]\n",
    "        episodes = [int(file.split('Season')[-1][:7].split('-')[1]) for file in files]\n",
    "        print(len(seasons),len(episodes),len(subs))\n",
    "        data = {'subtitles': subs,\n",
    "                'seasons' :seasons,\n",
    "                'episodes' : episodes,\n",
    "                }\n",
    "        return pd.DataFrame(data)\n",
    "\n",
    "        "
   ]
  },
  {
   "cell_type": "code",
   "execution_count": 47,
   "metadata": {},
   "outputs": [
    {
     "name": "stdout",
     "output_type": "stream",
     "text": [
      "220 220 220\n"
     ]
    }
   ],
   "source": [
    "file_path = '/Users/brighttenkorangofori/Desktop/naruto/data/subtitles'\n",
    "df = load_subtitles(file_path)"
   ]
  },
  {
   "cell_type": "code",
   "execution_count": 48,
   "metadata": {},
   "outputs": [
    {
     "data": {
      "text/html": [
       "<div>\n",
       "<style scoped>\n",
       "    .dataframe tbody tr th:only-of-type {\n",
       "        vertical-align: middle;\n",
       "    }\n",
       "\n",
       "    .dataframe tbody tr th {\n",
       "        vertical-align: top;\n",
       "    }\n",
       "\n",
       "    .dataframe thead th {\n",
       "        text-align: right;\n",
       "    }\n",
       "</style>\n",
       "<table border=\"1\" class=\"dataframe\">\n",
       "  <thead>\n",
       "    <tr style=\"text-align: right;\">\n",
       "      <th></th>\n",
       "      <th>subtitles</th>\n",
       "      <th>seasons</th>\n",
       "      <th>episodes</th>\n",
       "    </tr>\n",
       "  </thead>\n",
       "  <tbody>\n",
       "    <tr>\n",
       "      <th>0</th>\n",
       "      <td>A long time ago, a powerful demon fox\\Nappeare...</td>\n",
       "      <td>1</td>\n",
       "      <td>1</td>\n",
       "    </tr>\n",
       "    <tr>\n",
       "      <th>1</th>\n",
       "      <td>C'mon! Running like a fugitive, Being chased b...</td>\n",
       "      <td>1</td>\n",
       "      <td>2</td>\n",
       "    </tr>\n",
       "    <tr>\n",
       "      <th>2</th>\n",
       "      <td>C'mon! Running like a fugitive, Being chased b...</td>\n",
       "      <td>1</td>\n",
       "      <td>3</td>\n",
       "    </tr>\n",
       "    <tr>\n",
       "      <th>3</th>\n",
       "      <td>C'mon! Running like a fugitive, Being chased b...</td>\n",
       "      <td>1</td>\n",
       "      <td>4</td>\n",
       "    </tr>\n",
       "    <tr>\n",
       "      <th>4</th>\n",
       "      <td>C'mon! Running like a fugitive, Being chased b...</td>\n",
       "      <td>1</td>\n",
       "      <td>5</td>\n",
       "    </tr>\n",
       "  </tbody>\n",
       "</table>\n",
       "</div>"
      ],
      "text/plain": [
       "                                           subtitles  seasons  episodes\n",
       "0  A long time ago, a powerful demon fox\\Nappeare...        1         1\n",
       "1  C'mon! Running like a fugitive, Being chased b...        1         2\n",
       "2  C'mon! Running like a fugitive, Being chased b...        1         3\n",
       "3  C'mon! Running like a fugitive, Being chased b...        1         4\n",
       "4  C'mon! Running like a fugitive, Being chased b...        1         5"
      ]
     },
     "execution_count": 48,
     "metadata": {},
     "output_type": "execute_result"
    }
   ],
   "source": [
    "df.head(5)"
   ]
  },
  {
   "cell_type": "code",
   "execution_count": 104,
   "metadata": {},
   "outputs": [],
   "source": [
    "def get_theme(subs):\n",
    "    labels = ['self-development','battle','hope','friendship','love','betrayal','sacrifice']\n",
    "    scripts = ' '.join(subs)\n",
    "    \n",
    "    #individual sentences\n",
    "    sentence_tokens = sent_tokenize(scripts)\n",
    "    \n",
    "    #clean text\n",
    "    sentence_tokens = [token.replace('\\\\N',' ') for token in sentence_tokens]\n",
    "   \n",
    "\n",
    "    #divide into batchs \n",
    "    batches = []\n",
    "    for i in range(0,len(sentence_tokens)-1,20):\n",
    "            batch = sentence_tokens[i : (i+20)]\n",
    "            batches.append(batch)\n",
    "\n",
    "    #merge each 20 sentences in big strings\n",
    "    batches = [' '.join(batch) for batch in batches]\n",
    "\n",
    "    classes = theme_classifier(batches[:3],labels)\n",
    "\n",
    "    return classes"
   ]
  },
  {
   "cell_type": "code",
   "execution_count": 107,
   "metadata": {},
   "outputs": [
    {
     "name": "stderr",
     "output_type": "stream",
     "text": [
      "/Users/brighttenkorangofori/Desktop/naruto/naurto-venv/lib/python3.9/site-packages/torch/utils/data/dataloader.py:643: UserWarning: Length of IterableDataset <transformers.pipelines.pt_utils.PipelineChunkIterator object at 0x15b603d00> was reported to be 3 (when accessing len(dataloader)), but 4 samples have been fetched. \n",
      "  warnings.warn(warn_msg)\n",
      "/Users/brighttenkorangofori/Desktop/naruto/naurto-venv/lib/python3.9/site-packages/torch/utils/data/dataloader.py:643: UserWarning: Length of IterableDataset <transformers.pipelines.pt_utils.PipelineChunkIterator object at 0x15b603d00> was reported to be 3 (when accessing len(dataloader)), but 5 samples have been fetched. \n",
      "  warnings.warn(warn_msg)\n",
      "/Users/brighttenkorangofori/Desktop/naruto/naurto-venv/lib/python3.9/site-packages/torch/utils/data/dataloader.py:643: UserWarning: Length of IterableDataset <transformers.pipelines.pt_utils.PipelineChunkIterator object at 0x15b603d00> was reported to be 3 (when accessing len(dataloader)), but 6 samples have been fetched. \n",
      "  warnings.warn(warn_msg)\n",
      "/Users/brighttenkorangofori/Desktop/naruto/naurto-venv/lib/python3.9/site-packages/torch/utils/data/dataloader.py:643: UserWarning: Length of IterableDataset <transformers.pipelines.pt_utils.PipelineChunkIterator object at 0x15b603d00> was reported to be 3 (when accessing len(dataloader)), but 7 samples have been fetched. \n",
      "  warnings.warn(warn_msg)\n",
      "/Users/brighttenkorangofori/Desktop/naruto/naurto-venv/lib/python3.9/site-packages/torch/utils/data/dataloader.py:643: UserWarning: Length of IterableDataset <transformers.pipelines.pt_utils.PipelineChunkIterator object at 0x15b603d00> was reported to be 3 (when accessing len(dataloader)), but 8 samples have been fetched. \n",
      "  warnings.warn(warn_msg)\n",
      "/Users/brighttenkorangofori/Desktop/naruto/naurto-venv/lib/python3.9/site-packages/torch/utils/data/dataloader.py:643: UserWarning: Length of IterableDataset <transformers.pipelines.pt_utils.PipelineChunkIterator object at 0x15b603d00> was reported to be 3 (when accessing len(dataloader)), but 9 samples have been fetched. \n",
      "  warnings.warn(warn_msg)\n",
      "/Users/brighttenkorangofori/Desktop/naruto/naurto-venv/lib/python3.9/site-packages/torch/utils/data/dataloader.py:643: UserWarning: Length of IterableDataset <transformers.pipelines.pt_utils.PipelineChunkIterator object at 0x15b603d00> was reported to be 3 (when accessing len(dataloader)), but 10 samples have been fetched. \n",
      "  warnings.warn(warn_msg)\n",
      "/Users/brighttenkorangofori/Desktop/naruto/naurto-venv/lib/python3.9/site-packages/torch/utils/data/dataloader.py:643: UserWarning: Length of IterableDataset <transformers.pipelines.pt_utils.PipelineChunkIterator object at 0x15b603d00> was reported to be 3 (when accessing len(dataloader)), but 11 samples have been fetched. \n",
      "  warnings.warn(warn_msg)\n",
      "/Users/brighttenkorangofori/Desktop/naruto/naurto-venv/lib/python3.9/site-packages/torch/utils/data/dataloader.py:643: UserWarning: Length of IterableDataset <transformers.pipelines.pt_utils.PipelineChunkIterator object at 0x15b603d00> was reported to be 3 (when accessing len(dataloader)), but 12 samples have been fetched. \n",
      "  warnings.warn(warn_msg)\n",
      "/Users/brighttenkorangofori/Desktop/naruto/naurto-venv/lib/python3.9/site-packages/torch/utils/data/dataloader.py:643: UserWarning: Length of IterableDataset <transformers.pipelines.pt_utils.PipelineChunkIterator object at 0x15b603d00> was reported to be 3 (when accessing len(dataloader)), but 13 samples have been fetched. \n",
      "  warnings.warn(warn_msg)\n",
      "/Users/brighttenkorangofori/Desktop/naruto/naurto-venv/lib/python3.9/site-packages/torch/utils/data/dataloader.py:643: UserWarning: Length of IterableDataset <transformers.pipelines.pt_utils.PipelineChunkIterator object at 0x15b603d00> was reported to be 3 (when accessing len(dataloader)), but 14 samples have been fetched. \n",
      "  warnings.warn(warn_msg)\n",
      "/Users/brighttenkorangofori/Desktop/naruto/naurto-venv/lib/python3.9/site-packages/torch/utils/data/dataloader.py:643: UserWarning: Length of IterableDataset <transformers.pipelines.pt_utils.PipelineChunkIterator object at 0x15b603d00> was reported to be 3 (when accessing len(dataloader)), but 15 samples have been fetched. \n",
      "  warnings.warn(warn_msg)\n",
      "/Users/brighttenkorangofori/Desktop/naruto/naurto-venv/lib/python3.9/site-packages/torch/utils/data/dataloader.py:643: UserWarning: Length of IterableDataset <transformers.pipelines.pt_utils.PipelineChunkIterator object at 0x15b603d00> was reported to be 3 (when accessing len(dataloader)), but 16 samples have been fetched. \n",
      "  warnings.warn(warn_msg)\n",
      "/Users/brighttenkorangofori/Desktop/naruto/naurto-venv/lib/python3.9/site-packages/torch/utils/data/dataloader.py:643: UserWarning: Length of IterableDataset <transformers.pipelines.pt_utils.PipelineChunkIterator object at 0x15b603d00> was reported to be 3 (when accessing len(dataloader)), but 17 samples have been fetched. \n",
      "  warnings.warn(warn_msg)\n",
      "/Users/brighttenkorangofori/Desktop/naruto/naurto-venv/lib/python3.9/site-packages/torch/utils/data/dataloader.py:643: UserWarning: Length of IterableDataset <transformers.pipelines.pt_utils.PipelineChunkIterator object at 0x15b603d00> was reported to be 3 (when accessing len(dataloader)), but 18 samples have been fetched. \n",
      "  warnings.warn(warn_msg)\n",
      "/Users/brighttenkorangofori/Desktop/naruto/naurto-venv/lib/python3.9/site-packages/torch/utils/data/dataloader.py:643: UserWarning: Length of IterableDataset <transformers.pipelines.pt_utils.PipelineChunkIterator object at 0x15b603d00> was reported to be 3 (when accessing len(dataloader)), but 19 samples have been fetched. \n",
      "  warnings.warn(warn_msg)\n",
      "/Users/brighttenkorangofori/Desktop/naruto/naurto-venv/lib/python3.9/site-packages/torch/utils/data/dataloader.py:643: UserWarning: Length of IterableDataset <transformers.pipelines.pt_utils.PipelineChunkIterator object at 0x15b603d00> was reported to be 3 (when accessing len(dataloader)), but 20 samples have been fetched. \n",
      "  warnings.warn(warn_msg)\n",
      "/Users/brighttenkorangofori/Desktop/naruto/naurto-venv/lib/python3.9/site-packages/torch/utils/data/dataloader.py:643: UserWarning: Length of IterableDataset <transformers.pipelines.pt_utils.PipelineChunkIterator object at 0x15b603d00> was reported to be 3 (when accessing len(dataloader)), but 21 samples have been fetched. \n",
      "  warnings.warn(warn_msg)\n"
     ]
    }
   ],
   "source": [
    "first_3_class =get_theme(df.subtitles)"
   ]
  },
  {
   "cell_type": "code",
   "execution_count": 165,
   "metadata": {},
   "outputs": [
    {
     "data": {
      "text/plain": [
       "{'sequence': 'He climbed onto the Mountainside Images… And he vandalized and graffitied all over them! Wait! Ha ha… Why should I? Hey, Naruto! How did you suddenly get here, lruka Sensei? The question is what are you doing here when you should be in class now? Now listen, Naruto. You failed the last graduation test and the one before that. This is no time to be goofing off, you fool! We will have a re-test on the Transformation Jutsu! Even those who already passed will take it! Whaaaat?! Sakura Haruno. Here I go… Transform! OK! I did it! Cha! Did you see that, Sasuke? Next, Sasuke Uchiha. Yes.',\n",
       " 'labels': ['self-development',\n",
       "  'battle',\n",
       "  'sacrifice',\n",
       "  'betrayal',\n",
       "  'hope',\n",
       "  'friendship',\n",
       "  'love'],\n",
       " 'scores': [0.3394635021686554,\n",
       "  0.1941613107919693,\n",
       "  0.16267549991607666,\n",
       "  0.13113020360469818,\n",
       "  0.06922612339258194,\n",
       "  0.06852379441261292,\n",
       "  0.03481961786746979]}"
      ]
     },
     "execution_count": 165,
     "metadata": {},
     "output_type": "execute_result"
    }
   ],
   "source": [
    "first_3_class[1]"
   ]
  },
  {
   "cell_type": "code",
   "execution_count": 180,
   "metadata": {},
   "outputs": [],
   "source": [
    "import numpy as np\n",
    "def plot_themes(classes):\n",
    "     c = {'sequence' : [],\n",
    "          'labels' : [],\n",
    "          'scores' : []}\n",
    "     for clas in classes:\n",
    "          for k,v in clas.items():\n",
    "               c[k].append(v)\n",
    "\n",
    "     df = pd.DataFrame(c)\n",
    "\n",
    "     max_scores = []\n",
    "     classification = []\n",
    "\n",
    "\n",
    "\n",
    "     for score, label in zip(df['scores'], df['labels']):\n",
    "          max_score = np.max(score)\n",
    "          max_scores.append(max_score)\n",
    "          index = score.index(max_score)\n",
    "          name = label[index]\n",
    "          classification.append(name)\n",
    "     df['max_scores'] = max_scores\n",
    "     df['classification'] = classification\n",
    "      \n",
    "     sns.barplot(data = df, x ='classification',y ='max_scores' ,hue = 'classification' )\n",
    "\n",
    "     return df\n",
    "\n",
    "     \n",
    "          \n",
    "\n",
    "\n",
    "\n"
   ]
  },
  {
   "cell_type": "code",
   "execution_count": 181,
   "metadata": {},
   "outputs": [],
   "source": [
    "df3 = plot_themes(first_3_class)"
   ]
  },
  {
   "cell_type": "code",
   "execution_count": 2,
   "metadata": {},
   "outputs": [
    {
     "name": "stderr",
     "output_type": "stream",
     "text": [
      "[nltk_data] Downloading package punkt_tab to\n",
      "[nltk_data]     /Users/brighttenkorangofori/nltk_data...\n",
      "[nltk_data]   Package punkt_tab is already up-to-date!\n"
     ]
    },
    {
     "data": {
      "text/plain": [
       "['hey haow are you']"
      ]
     },
     "execution_count": 2,
     "metadata": {},
     "output_type": "execute_result"
    }
   ],
   "source": [
    "import nltk\n",
    "nltk.download('punkt_tab')\n",
    "\n",
    "from nltk import sent_tokenize\n",
    "\n",
    "sent_tokenize('hey haow are you')"
   ]
  },
  {
   "cell_type": "code",
   "execution_count": 185,
   "metadata": {},
   "outputs": [
    {
     "data": {
      "text/plain": [
       "<Axes: xlabel='classification', ylabel='max_scores'>"
      ]
     },
     "execution_count": 185,
     "metadata": {},
     "output_type": "execute_result"
    },
    {
     "data": {
      "image/png": "[encoded data removed]",
      "text/plain": [
       "<Figure size 640x480 with 1 Axes>"
      ]
     },
     "metadata": {},
     "output_type": "display_data"
    }
   ],
   "source": [
    "import seaborn as sns\n"
   ]
  },
  {
   "cell_type": "code",
   "execution_count": 2,
   "metadata": {},
   "outputs": [
    {
     "name": "stdout",
     "output_type": "stream",
     "text": [
      "['/Users/brighttenkorangofori/nltk_data', '/Users/brighttenkorangofori/Desktop/naruto/naurto-venv/nltk_data', '/Users/brighttenkorangofori/Desktop/naruto/naurto-venv/share/nltk_data', '/Users/brighttenkorangofori/Desktop/naruto/naurto-venv/lib/nltk_data', '/usr/share/nltk_data', '/usr/local/share/nltk_data', '/usr/lib/nltk_data', '/usr/local/lib/nltk_data', '/Users/brighttenkorangofori/nltk_data']\n"
     ]
    }
   ],
   "source": [
    "import nltk\n",
    "\n",
    "# Add the path where the punkt data is located\n",
    "nltk.data.path.append('/Users/brighttenkorangofori/nltk_data')\n",
    "\n",
    "# Verify the path\n",
    "print(nltk.data.path)"
   ]
  }
 ],
 "metadata": {
  "kernelspec": {
   "display_name": "naurto-venv",
   "language": "python",
   "name": "python3"
  },
  "language_info": {
   "codemirror_mode": {
    "name": "ipython",
    "version": 3
   },
   "file_extension": ".py",
   "mimetype": "text/x-python",
   "name": "python",
   "nbconvert_exporter": "python",
   "pygments_lexer": "ipython3",
   "version": "3.9.6"
  }
 },
 "nbformat": 4,
 "nbformat_minor": 2
}
